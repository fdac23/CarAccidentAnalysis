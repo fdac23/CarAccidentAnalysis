{
 "cells": [
  {
   "cell_type": "code",
   "execution_count": 2,
   "id": "98d3690f-e351-4797-a393-54c84f7d8a55",
   "metadata": {},
   "outputs": [],
   "source": [
    "import pandas as pd\n",
    "import matplotlib as plt\n",
    "import numpy as np"
   ]
  },
  {
   "cell_type": "code",
   "execution_count": 29,
   "id": "28ba6eaf-408b-48cd-934e-17a3825a590f",
   "metadata": {},
   "outputs": [
    {
     "name": "stdout",
     "output_type": "stream",
     "text": [
      "Total:  20000\n",
      "Severity 1:  33\n",
      "Severity 2:  12278\n",
      "Severity 3:  7680\n",
      "Severity 4:  9\n",
      "Severity 5:  0\n"
     ]
    }
   ],
   "source": [
    "# The first one is a relic of the full data set, use it again in case we need to retrim the original data.\n",
    "#data = pd.read_csv('../Traffic_Data/US_Accidents_March23.csv', nrows=20000)\n",
    "#data = data.drop(columns=['End_Lat','End_Lng'])\n",
    "data = pd.read_csv('./Trimmed_Traffic_Data')\n",
    "\n",
    "# These will store data based on severity\n",
    "dataSev1 = data[data['Severity']==1]\n",
    "dataSev2 = data[data['Severity']==2]\n",
    "dataSev3 = data[data['Severity']==3]\n",
    "dataSev4 = data[data['Severity']==4]\n",
    "dataSev5 = data[data['Severity']==5]\n",
    "\n",
    "print(\"Total: \", len(data))\n",
    "print(\"Severity 1: \", len(dataSev1))\n",
    "print(\"Severity 2: \", len(dataSev2))\n",
    "print(\"Severity 3: \", len(dataSev3))\n",
    "print(\"Severity 4: \", len(dataSev4))\n",
    "print(\"Severity 5: \", len(dataSev5))\n",
    "\n",
    "#data.to_csv('./Trimmed_Traffic_Data')"
   ]
  },
  {
   "cell_type": "code",
   "execution_count": null,
   "id": "be8d5592-110c-498a-8eb2-724660be5646",
   "metadata": {},
   "outputs": [],
   "source": []
  }
 ],
 "metadata": {
  "kernelspec": {
   "display_name": "Python 3 (ipykernel)",
   "language": "python",
   "name": "python3"
  },
  "language_info": {
   "codemirror_mode": {
    "name": "ipython",
    "version": 3
   },
   "file_extension": ".py",
   "mimetype": "text/x-python",
   "name": "python",
   "nbconvert_exporter": "python",
   "pygments_lexer": "ipython3",
   "version": "3.10.12"
  }
 },
 "nbformat": 4,
 "nbformat_minor": 5
}
